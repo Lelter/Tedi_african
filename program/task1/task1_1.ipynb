{
 "cells": [
  {
   "cell_type": "code",
   "execution_count": 114,
   "metadata": {
    "collapsed": true
   },
   "outputs": [
    {
     "data": {
      "text/plain": "             日期                           国家             城市       地区  \\\n0    2017-01-01                Cote d'Ivoire        Abidjan  Western   \n1    2017-01-01                   Madagascar   Antananarivo  Eastern   \n2    2017-01-01                       Rwanda         Kigali  Eastern   \n3    2017-01-01                     Zimbabwe         Harare  Eastern   \n4    2017-01-02                     Ethiopia    Addis Ababa  Eastern   \n...         ...                          ...            ...      ...   \n1051 2020-12-20                     Zimbabwe         Harare  Eastern   \n1052 2020-12-21                       Malawi       Blantyre  Eastern   \n1053 2020-12-22                      Liberia       Monrovia  Western   \n1054 2020-12-28                        Kenya        Nairobi  Eastern   \n1055 2020-12-28  United Republic of Tanzania  Dar es Salaam  Eastern   \n\n             服务分类     销售额     利润  \n0      Commercial  656.96   6.57  \n1          Public  875.94 -70.08  \n2          Public  258.35  18.08  \n3     Residential  875.62 -35.02  \n4     Residential  509.93  10.20  \n...           ...     ...    ...  \n1051  Residential  394.28 -23.66  \n1052  Residential  333.07 -16.65  \n1053  Residential  133.26  -8.00  \n1054       Public  737.57  36.88  \n1055  Residential  859.82 -60.19  \n\n[1056 rows x 7 columns]",
      "text/html": "<div>\n<style scoped>\n    .dataframe tbody tr th:only-of-type {\n        vertical-align: middle;\n    }\n\n    .dataframe tbody tr th {\n        vertical-align: top;\n    }\n\n    .dataframe thead th {\n        text-align: right;\n    }\n</style>\n<table border=\"1\" class=\"dataframe\">\n  <thead>\n    <tr style=\"text-align: right;\">\n      <th></th>\n      <th>日期</th>\n      <th>国家</th>\n      <th>城市</th>\n      <th>地区</th>\n      <th>服务分类</th>\n      <th>销售额</th>\n      <th>利润</th>\n    </tr>\n  </thead>\n  <tbody>\n    <tr>\n      <th>0</th>\n      <td>2017-01-01</td>\n      <td>Cote d'Ivoire</td>\n      <td>Abidjan</td>\n      <td>Western</td>\n      <td>Commercial</td>\n      <td>656.96</td>\n      <td>6.57</td>\n    </tr>\n    <tr>\n      <th>1</th>\n      <td>2017-01-01</td>\n      <td>Madagascar</td>\n      <td>Antananarivo</td>\n      <td>Eastern</td>\n      <td>Public</td>\n      <td>875.94</td>\n      <td>-70.08</td>\n    </tr>\n    <tr>\n      <th>2</th>\n      <td>2017-01-01</td>\n      <td>Rwanda</td>\n      <td>Kigali</td>\n      <td>Eastern</td>\n      <td>Public</td>\n      <td>258.35</td>\n      <td>18.08</td>\n    </tr>\n    <tr>\n      <th>3</th>\n      <td>2017-01-01</td>\n      <td>Zimbabwe</td>\n      <td>Harare</td>\n      <td>Eastern</td>\n      <td>Residential</td>\n      <td>875.62</td>\n      <td>-35.02</td>\n    </tr>\n    <tr>\n      <th>4</th>\n      <td>2017-01-02</td>\n      <td>Ethiopia</td>\n      <td>Addis Ababa</td>\n      <td>Eastern</td>\n      <td>Residential</td>\n      <td>509.93</td>\n      <td>10.20</td>\n    </tr>\n    <tr>\n      <th>...</th>\n      <td>...</td>\n      <td>...</td>\n      <td>...</td>\n      <td>...</td>\n      <td>...</td>\n      <td>...</td>\n      <td>...</td>\n    </tr>\n    <tr>\n      <th>1051</th>\n      <td>2020-12-20</td>\n      <td>Zimbabwe</td>\n      <td>Harare</td>\n      <td>Eastern</td>\n      <td>Residential</td>\n      <td>394.28</td>\n      <td>-23.66</td>\n    </tr>\n    <tr>\n      <th>1052</th>\n      <td>2020-12-21</td>\n      <td>Malawi</td>\n      <td>Blantyre</td>\n      <td>Eastern</td>\n      <td>Residential</td>\n      <td>333.07</td>\n      <td>-16.65</td>\n    </tr>\n    <tr>\n      <th>1053</th>\n      <td>2020-12-22</td>\n      <td>Liberia</td>\n      <td>Monrovia</td>\n      <td>Western</td>\n      <td>Residential</td>\n      <td>133.26</td>\n      <td>-8.00</td>\n    </tr>\n    <tr>\n      <th>1054</th>\n      <td>2020-12-28</td>\n      <td>Kenya</td>\n      <td>Nairobi</td>\n      <td>Eastern</td>\n      <td>Public</td>\n      <td>737.57</td>\n      <td>36.88</td>\n    </tr>\n    <tr>\n      <th>1055</th>\n      <td>2020-12-28</td>\n      <td>United Republic of Tanzania</td>\n      <td>Dar es Salaam</td>\n      <td>Eastern</td>\n      <td>Residential</td>\n      <td>859.82</td>\n      <td>-60.19</td>\n    </tr>\n  </tbody>\n</table>\n<p>1056 rows × 7 columns</p>\n</div>"
     },
     "execution_count": 114,
     "metadata": {},
     "output_type": "execute_result"
    }
   ],
   "source": [
    "import pandas as pd\n",
    "data=pd.read_excel(\"非洲通讯产品销售数据.xlsx\")\n",
    "data"
   ]
  },
  {
   "cell_type": "code",
   "execution_count": 115,
   "outputs": [],
   "source": [
    "Resident=data.groupby(\"地区\")"
   ],
   "metadata": {
    "collapsed": false,
    "pycharm": {
     "name": "#%%\n"
    }
   }
  },
  {
   "cell_type": "code",
   "execution_count": 116,
   "outputs": [],
   "source": [
    "Resident_season=Resident.resample('Q', on='日期').agg({'销售额':'sum','利润':'sum'}).reset_index()\n",
    "Resident_season.to_csv(\"result/地区季度.csv\",encoding='utf-8_sig',index=False)"
   ],
   "metadata": {
    "collapsed": false,
    "pycharm": {
     "name": "#%%\n"
    }
   }
  },
  {
   "cell_type": "code",
   "execution_count": 117,
   "outputs": [],
   "source": [
    "Resident_Year=Resident.resample('A', on='日期').agg({'销售额':'sum','利润':'sum'}).reset_index()\n",
    "Resident_Year.to_csv(\"result/地区年度.csv\",encoding='utf-8_sig',index=False)"
   ],
   "metadata": {
    "collapsed": false,
    "pycharm": {
     "name": "#%%\n"
    }
   }
  },
  {
   "cell_type": "code",
   "execution_count": 118,
   "outputs": [],
   "source": [
    "fuwu=data.groupby(\"服务分类\")\n",
    "fuwu_season=fuwu.resample('Q', on='日期').agg({'销售额':'sum','利润':'sum'}).reset_index()\n",
    "fuwu_season.to_csv(\"result/服务季度.csv\",encoding='utf-8_sig',index=False)\n",
    "fuwu_Year=fuwu.resample('A', on='日期').agg({'销售额':'sum','利润':'sum'}).reset_index()\n",
    "fuwu_Year.to_csv(\"result/服务年度.csv\",encoding='utf-8_sig',index=False)"
   ],
   "metadata": {
    "collapsed": false,
    "pycharm": {
     "name": "#%%\n"
    }
   }
  },
  {
   "cell_type": "code",
   "execution_count": 119,
   "outputs": [],
   "source": [
    "country=data.groupby(\"国家\")\n",
    "country_season=country.resample('Q', on='日期').agg({'销售额':'sum','利润':'sum'}).reset_index()\n",
    "country_season.to_csv(\"result/国家季度.csv\",encoding='utf-8_sig',index=False)\n",
    "country_Year=country.resample('A', on='日期').agg({'销售额':'sum','利润':'sum'}).reset_index()\n",
    "country_Year.to_csv(\"result/国家年度.csv\",encoding='utf-8_sig',index=False)"
   ],
   "metadata": {
    "collapsed": false,
    "pycharm": {
     "name": "#%%\n"
    }
   }
  }
 ],
 "metadata": {
  "kernelspec": {
   "display_name": "Python 3",
   "language": "python",
   "name": "python3"
  },
  "language_info": {
   "codemirror_mode": {
    "name": "ipython",
    "version": 2
   },
   "file_extension": ".py",
   "mimetype": "text/x-python",
   "name": "python",
   "nbconvert_exporter": "python",
   "pygments_lexer": "ipython2",
   "version": "2.7.6"
  }
 },
 "nbformat": 4,
 "nbformat_minor": 0
}
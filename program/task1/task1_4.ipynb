{
 "cells": [],
 "metadata": {
  "kernelspec": {
   "display_name": "Python 3",
   "language": "python",
   "name": "python3"
  },
  "language_info": {
   "codemirror_mode": {
    "name": "ipython",
    "version": 2
   },
   "file_extension": ".py",
   "mimetype": "text/x-python",
   "name": "python",
   "nbconvert_exporter": "python",
   "pygments_lexer": "ipython2",
   "version": "2.7.6"
  },
  "pycharm": {
   "stem_cell": {
    "cell_type": "raw",
    "source": [
     "from __future__ import print_function\n",
     "import pandas as pd\n",
     "import matplotlib.pyplot as plt\n",
     "import statsmodels.api as sm\n",
     "import pmdarima as pm\n",
     "\n",
     "dta=[10930,10318,10595,10972,7706,6756,9092,10551,9722,10913,11151,8186,6422,\n",
     "6337,11649,11652,10310,12043,7937,6476,9662,9570,9981,9331,9449,6773,6304,9355,\n",
     "10477,10148,10395,11261,8713,7299,10424,10795,11069,11602,11427,9095,7707,10767,\n",
     "12136,12812,12006,12528,10329,7818,11719,11683,12603,11495,13670,11337,10232,\n",
     "13261,13230,15535,16837,19598,14823,11622,19391,18177,19994,14723,15694,13248,\n",
     "9543,12872,13101,15053,12619,13749,10228,9725,14729,12518,14564,15085,14722,\n",
     "11999,9390,13481,14795,15845,15271,14686,11054,10395]\n",
     "\n",
     "dta=pd.Series(dta)\n",
     "dta.index = pd.Index(sm.tsa.datetools.dates_from_range('2001','2090'))\n",
     "dta.plot(figsize=(12,8))\n",
     "plt.title('dta')\n",
     "print('dta:',dta)\n",
     "\n",
     "model = pm.auto_arima(dta, start_p=1, start_q=1,\n",
     "                           max_p=8, max_q=8, m=1,\n",
     "                           start_P=0, seasonal=False,\n",
     "                           max_d=3, trace=True,\n",
     "                           information_criterion='aic',\n",
     "                           error_action='ignore',\n",
     "                           suppress_warnings=True,\n",
     "                           stepwise=False)\n",
     "forecast = model.predict(10)#预测未来10年的数据\n",
     "print(forecast)\n",
     "\n",
     "#为绘图的连续性把2090的值添加为PredicValue第一个元素\n",
     "PredicValue=[]\n",
     "PredicValue.append(dta.values[-1])\n",
     "for i in range(len(forecast)):\n",
     "    PredicValue.append(forecast[i])\n",
     "PredicValue=pd.Series(PredicValue)\n",
     "\n",
     "PredicValue.index = pd.Index(sm.tsa.datetools.dates_from_range('2090','2100'))\n",
     "\n",
     "# 解决中文显示问题\n",
     "plt.rcParams['font.sans-serif'] = ['SimHei']\n",
     "plt.rcParams['axes.unicode_minus'] = False\n",
     "\n",
     "fig, ax = plt.subplots(figsize=(12, 8))\n",
     "ax = dta.loc['2001':].plot(ax=ax,label='训练值')\n",
     "PredicValue.plot(ax=ax, label='预测值')\n",
     "plt.legend()\n",
     "plt.show()\n"
    ],
    "metadata": {
     "collapsed": false
    }
   }
  }
 },
 "nbformat": 4,
 "nbformat_minor": 0
}
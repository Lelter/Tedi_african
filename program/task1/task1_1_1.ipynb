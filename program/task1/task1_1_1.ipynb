{
 "cells": [
  {
   "cell_type": "code",
   "execution_count": 20,
   "outputs": [
    {
     "data": {
      "text/plain": "             日期                           国家             城市       地区  \\\n0    2017-01-01                Cote d'Ivoire        Abidjan  Western   \n1    2017-01-01                   Madagascar   Antananarivo  Eastern   \n2    2017-01-01                       Rwanda         Kigali  Eastern   \n3    2017-01-01                     Zimbabwe         Harare  Eastern   \n4    2017-01-02                     Ethiopia    Addis Ababa  Eastern   \n...         ...                          ...            ...      ...   \n1051 2020-12-20                     Zimbabwe         Harare  Eastern   \n1052 2020-12-21                       Malawi       Blantyre  Eastern   \n1053 2020-12-22                      Liberia       Monrovia  Western   \n1054 2020-12-28                        Kenya        Nairobi  Eastern   \n1055 2020-12-28  United Republic of Tanzania  Dar es Salaam  Eastern   \n\n             服务分类     销售额     利润  \n0      Commercial  656.96   6.57  \n1          Public  875.94 -70.08  \n2          Public  258.35  18.08  \n3     Residential  875.62 -35.02  \n4     Residential  509.93  10.20  \n...           ...     ...    ...  \n1051  Residential  394.28 -23.66  \n1052  Residential  333.07 -16.65  \n1053  Residential  133.26  -8.00  \n1054       Public  737.57  36.88  \n1055  Residential  859.82 -60.19  \n\n[1056 rows x 7 columns]",
      "text/html": "<div>\n<style scoped>\n    .dataframe tbody tr th:only-of-type {\n        vertical-align: middle;\n    }\n\n    .dataframe tbody tr th {\n        vertical-align: top;\n    }\n\n    .dataframe thead th {\n        text-align: right;\n    }\n</style>\n<table border=\"1\" class=\"dataframe\">\n  <thead>\n    <tr style=\"text-align: right;\">\n      <th></th>\n      <th>日期</th>\n      <th>国家</th>\n      <th>城市</th>\n      <th>地区</th>\n      <th>服务分类</th>\n      <th>销售额</th>\n      <th>利润</th>\n    </tr>\n  </thead>\n  <tbody>\n    <tr>\n      <th>0</th>\n      <td>2017-01-01</td>\n      <td>Cote d'Ivoire</td>\n      <td>Abidjan</td>\n      <td>Western</td>\n      <td>Commercial</td>\n      <td>656.96</td>\n      <td>6.57</td>\n    </tr>\n    <tr>\n      <th>1</th>\n      <td>2017-01-01</td>\n      <td>Madagascar</td>\n      <td>Antananarivo</td>\n      <td>Eastern</td>\n      <td>Public</td>\n      <td>875.94</td>\n      <td>-70.08</td>\n    </tr>\n    <tr>\n      <th>2</th>\n      <td>2017-01-01</td>\n      <td>Rwanda</td>\n      <td>Kigali</td>\n      <td>Eastern</td>\n      <td>Public</td>\n      <td>258.35</td>\n      <td>18.08</td>\n    </tr>\n    <tr>\n      <th>3</th>\n      <td>2017-01-01</td>\n      <td>Zimbabwe</td>\n      <td>Harare</td>\n      <td>Eastern</td>\n      <td>Residential</td>\n      <td>875.62</td>\n      <td>-35.02</td>\n    </tr>\n    <tr>\n      <th>4</th>\n      <td>2017-01-02</td>\n      <td>Ethiopia</td>\n      <td>Addis Ababa</td>\n      <td>Eastern</td>\n      <td>Residential</td>\n      <td>509.93</td>\n      <td>10.20</td>\n    </tr>\n    <tr>\n      <th>...</th>\n      <td>...</td>\n      <td>...</td>\n      <td>...</td>\n      <td>...</td>\n      <td>...</td>\n      <td>...</td>\n      <td>...</td>\n    </tr>\n    <tr>\n      <th>1051</th>\n      <td>2020-12-20</td>\n      <td>Zimbabwe</td>\n      <td>Harare</td>\n      <td>Eastern</td>\n      <td>Residential</td>\n      <td>394.28</td>\n      <td>-23.66</td>\n    </tr>\n    <tr>\n      <th>1052</th>\n      <td>2020-12-21</td>\n      <td>Malawi</td>\n      <td>Blantyre</td>\n      <td>Eastern</td>\n      <td>Residential</td>\n      <td>333.07</td>\n      <td>-16.65</td>\n    </tr>\n    <tr>\n      <th>1053</th>\n      <td>2020-12-22</td>\n      <td>Liberia</td>\n      <td>Monrovia</td>\n      <td>Western</td>\n      <td>Residential</td>\n      <td>133.26</td>\n      <td>-8.00</td>\n    </tr>\n    <tr>\n      <th>1054</th>\n      <td>2020-12-28</td>\n      <td>Kenya</td>\n      <td>Nairobi</td>\n      <td>Eastern</td>\n      <td>Public</td>\n      <td>737.57</td>\n      <td>36.88</td>\n    </tr>\n    <tr>\n      <th>1055</th>\n      <td>2020-12-28</td>\n      <td>United Republic of Tanzania</td>\n      <td>Dar es Salaam</td>\n      <td>Eastern</td>\n      <td>Residential</td>\n      <td>859.82</td>\n      <td>-60.19</td>\n    </tr>\n  </tbody>\n</table>\n<p>1056 rows × 7 columns</p>\n</div>"
     },
     "execution_count": 20,
     "metadata": {},
     "output_type": "execute_result"
    }
   ],
   "source": [
    "import pandas as pd\n",
    "data=pd.read_excel(\"非洲通讯产品销售数据.xlsx\")\n",
    "data"
   ],
   "metadata": {
    "collapsed": false,
    "pycharm": {
     "name": "#%%\n"
    }
   }
  },
  {
   "cell_type": "code",
   "execution_count": 21,
   "outputs": [
    {
     "name": "stdout",
     "output_type": "stream",
     "text": [
      "('Eastern',              日期                           国家             城市       地区  \\\n",
      "1    2017-01-01                   Madagascar   Antananarivo  Eastern   \n",
      "2    2017-01-01                       Rwanda         Kigali  Eastern   \n",
      "3    2017-01-01                     Zimbabwe         Harare  Eastern   \n",
      "4    2017-01-02                     Ethiopia    Addis Ababa  Eastern   \n",
      "6    2017-01-03                       Malawi       Blantyre  Eastern   \n",
      "...         ...                          ...            ...      ...   \n",
      "1049 2020-12-11                   Madagascar   Antananarivo  Eastern   \n",
      "1051 2020-12-20                     Zimbabwe         Harare  Eastern   \n",
      "1052 2020-12-21                       Malawi       Blantyre  Eastern   \n",
      "1054 2020-12-28                        Kenya        Nairobi  Eastern   \n",
      "1055 2020-12-28  United Republic of Tanzania  Dar es Salaam  Eastern   \n",
      "\n",
      "             服务分类     销售额     利润  \n",
      "1          Public  875.94 -70.08  \n",
      "2          Public  258.35  18.08  \n",
      "3     Residential  875.62 -35.02  \n",
      "4     Residential  509.93  10.20  \n",
      "6     Residential  651.78  19.55  \n",
      "...           ...     ...    ...  \n",
      "1049  Residential   32.73  -0.65  \n",
      "1051  Residential  394.28 -23.66  \n",
      "1052  Residential  333.07 -16.65  \n",
      "1054       Public  737.57  36.88  \n",
      "1055  Residential  859.82 -60.19  \n",
      "\n",
      "[288 rows x 7 columns])\n",
      "('Middle',              日期                                国家           城市      地区  \\\n",
      "5    2017-01-03                              Chad    N'Djamena  Middle   \n",
      "8    2017-01-04             Sao Tome and Principe     Sao Tome  Middle   \n",
      "10   2017-01-05                          Cameroon      Yaoundé  Middle   \n",
      "17   2017-01-07                 Equatorial Guinea       Malabo  Middle   \n",
      "31   2017-01-15  Democratic Republic of the Congo   Lubumbashi  Middle   \n",
      "...         ...                               ...          ...     ...   \n",
      "1028 2020-10-28             Sao Tome and Principe     Sao Tome  Middle   \n",
      "1035 2020-11-20                            Angola       Luanda  Middle   \n",
      "1041 2020-12-04                          Cameroon      Yaoundé  Middle   \n",
      "1045 2020-12-07  Democratic Republic of the Congo   Mbuji-Mayi  Middle   \n",
      "1047 2020-12-08                             Congo  Brazzaville  Middle   \n",
      "\n",
      "             服务分类     销售额     利润  \n",
      "5      Commercial  443.13   4.43  \n",
      "8      Commercial  226.92  13.62  \n",
      "10         Public   77.41   3.87  \n",
      "17     Commercial  876.78 -43.84  \n",
      "31         Public   40.85  -2.04  \n",
      "...           ...     ...    ...  \n",
      "1028  Residential  120.74   3.62  \n",
      "1035   Commercial  878.19  61.47  \n",
      "1041       Public  403.75 -12.11  \n",
      "1045       Public  481.62  14.45  \n",
      "1047   Commercial  535.14 -26.76  \n",
      "\n",
      "[192 rows x 7 columns])\n",
      "('Northern',              日期              国家        城市        地区         服务分类     销售额  \\\n",
      "18   2017-01-07  Western Sahara    Dakhla  Northern  Residential  235.84   \n",
      "20   2017-01-08           Sudan  Khartoum  Northern  Residential  218.64   \n",
      "21   2017-01-09         Algeria   Algiers  Northern  Residential  906.30   \n",
      "23   2017-01-10           Libya   Tripoli  Northern  Residential  643.73   \n",
      "39   2017-01-18         Tunisia     Tunis  Northern   Commercial   60.05   \n",
      "...         ...             ...       ...       ...          ...     ...   \n",
      "1027 2020-10-27         Tunisia     Tunis  Northern  Residential  665.22   \n",
      "1032 2020-11-16           Egypt     Cairo  Northern   Commercial  506.78   \n",
      "1034 2020-11-19           Libya   Tripoli  Northern   Commercial  106.59   \n",
      "1042 2020-12-04           Sudan  Khartoum  Northern       Public  679.30   \n",
      "1044 2020-12-05         Morocco     Rabat  Northern   Commercial  184.49   \n",
      "\n",
      "         利润  \n",
      "18    -2.36  \n",
      "20    17.49  \n",
      "21     9.06  \n",
      "23    45.06  \n",
      "39    -0.60  \n",
      "...     ...  \n",
      "1027  33.26  \n",
      "1032 -10.14  \n",
      "1034  -6.40  \n",
      "1042  47.55  \n",
      "1044  -7.38  \n",
      "\n",
      "[128 rows x 7 columns])\n",
      "('Southern',              日期            国家            城市        地区         服务分类     销售额  \\\n",
      "14   2017-01-05  South Africa     Cape Town  Southern  Residential  173.98   \n",
      "29   2017-01-14      Botswana      Gaborone  Southern   Commercial  660.12   \n",
      "30   2017-01-14       Lesotho        Maseru  Southern   Commercial  153.27   \n",
      "37   2017-01-17  South Africa  Johannesburg  Southern  Residential  155.86   \n",
      "42   2017-01-19       Namibia      Windhoek  Southern  Residential  598.62   \n",
      "...         ...           ...           ...       ...          ...     ...   \n",
      "1021 2020-10-13  South Africa     Cape Town  Southern   Commercial  993.94   \n",
      "1026 2020-10-19     Swaziland       Mbabane  Southern  Residential  801.25   \n",
      "1030 2020-11-07  South Africa      Pretoria  Southern   Commercial  421.23   \n",
      "1038 2020-11-22  South Africa  Johannesburg  Southern   Commercial  850.02   \n",
      "1046 2020-12-07       Namibia      Windhoek  Southern       Public  951.26   \n",
      "\n",
      "         利润  \n",
      "14   -10.44  \n",
      "29     0.00  \n",
      "30     4.60  \n",
      "37    -4.68  \n",
      "42    29.93  \n",
      "...     ...  \n",
      "1021 -49.70  \n",
      "1026 -40.06  \n",
      "1030   4.21  \n",
      "1038 -51.00  \n",
      "1046  95.13  \n",
      "\n",
      "[128 rows x 7 columns])\n",
      "('Western',              日期             国家            城市       地区         服务分类     销售额  \\\n",
      "0    2017-01-01  Cote d'Ivoire       Abidjan  Western   Commercial  656.96   \n",
      "11   2017-01-05  Cote d'Ivoire  Yamoussoukro  Western       Public  263.65   \n",
      "12   2017-01-05        Nigeria         Lagos  Western  Residential  950.83   \n",
      "13   2017-01-05        Senegal         Dakar  Western   Commercial  252.01   \n",
      "15   2017-01-06          Benin    Porto-Novo  Western  Residential  384.51   \n",
      "...         ...            ...           ...      ...          ...     ...   \n",
      "1031 2020-11-14        Nigeria         Lagos  Western  Residential  119.23   \n",
      "1040 2020-12-03          Benin    Porto-Novo  Western  Residential  830.33   \n",
      "1048 2020-12-11  Guinea-Bissau        Bissau  Western   Commercial  428.02   \n",
      "1050 2020-12-16          Ghana        Kumasi  Western       Public  432.32   \n",
      "1053 2020-12-22        Liberia      Monrovia  Western  Residential  133.26   \n",
      "\n",
      "         利润  \n",
      "0      6.57  \n",
      "11    10.55  \n",
      "12   -47.54  \n",
      "13    22.68  \n",
      "15    34.61  \n",
      "...     ...  \n",
      "1031  -8.35  \n",
      "1040  -8.30  \n",
      "1048  38.52  \n",
      "1050  17.29  \n",
      "1053  -8.00  \n",
      "\n",
      "[320 rows x 7 columns])\n"
     ]
    }
   ],
   "source": [
    "Resident=data.groupby(\"地区\")\n",
    "for i in Resident:\n",
    "    print(i)\n",
    "Resident_season=Resident.resample('Q', on='日期').agg({'销售额':'sum','利润':'sum'}).reset_index()\n",
    "Resident_season.to_csv(\"result/地区季度.csv\",encoding='utf-8_sig',index=False)\n",
    "Resident_Year=Resident.resample('A', on='日期').agg({'销售额':'sum','利润':'sum'}).reset_index()\n",
    "Resident_Year.to_csv(\"result/地区年度.csv\",encoding='utf-8_sig',index=False)"
   ],
   "metadata": {
    "collapsed": false,
    "pycharm": {
     "name": "#%%\n"
    }
   }
  },
  {
   "cell_type": "code",
   "execution_count": 22,
   "outputs": [
    {
     "data": {
      "text/plain": "         地区         日期       销售额      利润\n0   Eastern 2017-03-31  15055.34  -31.39\n1   Eastern 2017-06-30   8326.17 -117.71\n2   Eastern 2017-09-30   8875.19    3.33\n3   Eastern 2017-12-31   3802.26    5.42\n4   Eastern 2018-03-31  11856.15  175.83\n..      ...        ...       ...     ...\n75  Western 2019-12-31   6278.77   18.25\n76  Western 2020-03-31  15456.14  140.60\n77  Western 2020-06-30   9283.73   65.72\n78  Western 2020-09-30  11301.50   38.03\n79  Western 2020-12-31   3421.83   56.27\n\n[80 rows x 4 columns]",
      "text/html": "<div>\n<style scoped>\n    .dataframe tbody tr th:only-of-type {\n        vertical-align: middle;\n    }\n\n    .dataframe tbody tr th {\n        vertical-align: top;\n    }\n\n    .dataframe thead th {\n        text-align: right;\n    }\n</style>\n<table border=\"1\" class=\"dataframe\">\n  <thead>\n    <tr style=\"text-align: right;\">\n      <th></th>\n      <th>地区</th>\n      <th>日期</th>\n      <th>销售额</th>\n      <th>利润</th>\n    </tr>\n  </thead>\n  <tbody>\n    <tr>\n      <th>0</th>\n      <td>Eastern</td>\n      <td>2017-03-31</td>\n      <td>15055.34</td>\n      <td>-31.39</td>\n    </tr>\n    <tr>\n      <th>1</th>\n      <td>Eastern</td>\n      <td>2017-06-30</td>\n      <td>8326.17</td>\n      <td>-117.71</td>\n    </tr>\n    <tr>\n      <th>2</th>\n      <td>Eastern</td>\n      <td>2017-09-30</td>\n      <td>8875.19</td>\n      <td>3.33</td>\n    </tr>\n    <tr>\n      <th>3</th>\n      <td>Eastern</td>\n      <td>2017-12-31</td>\n      <td>3802.26</td>\n      <td>5.42</td>\n    </tr>\n    <tr>\n      <th>4</th>\n      <td>Eastern</td>\n      <td>2018-03-31</td>\n      <td>11856.15</td>\n      <td>175.83</td>\n    </tr>\n    <tr>\n      <th>...</th>\n      <td>...</td>\n      <td>...</td>\n      <td>...</td>\n      <td>...</td>\n    </tr>\n    <tr>\n      <th>75</th>\n      <td>Western</td>\n      <td>2019-12-31</td>\n      <td>6278.77</td>\n      <td>18.25</td>\n    </tr>\n    <tr>\n      <th>76</th>\n      <td>Western</td>\n      <td>2020-03-31</td>\n      <td>15456.14</td>\n      <td>140.60</td>\n    </tr>\n    <tr>\n      <th>77</th>\n      <td>Western</td>\n      <td>2020-06-30</td>\n      <td>9283.73</td>\n      <td>65.72</td>\n    </tr>\n    <tr>\n      <th>78</th>\n      <td>Western</td>\n      <td>2020-09-30</td>\n      <td>11301.50</td>\n      <td>38.03</td>\n    </tr>\n    <tr>\n      <th>79</th>\n      <td>Western</td>\n      <td>2020-12-31</td>\n      <td>3421.83</td>\n      <td>56.27</td>\n    </tr>\n  </tbody>\n</table>\n<p>80 rows × 4 columns</p>\n</div>"
     },
     "execution_count": 22,
     "metadata": {},
     "output_type": "execute_result"
    }
   ],
   "source": [
    "Resident_season"
   ],
   "metadata": {
    "collapsed": false,
    "pycharm": {
     "name": "#%%\n"
    }
   }
  },
  {
   "cell_type": "code",
   "execution_count": 23,
   "outputs": [],
   "source": [
    "fuwu=data.groupby(\"服务分类\")\n",
    "fuwu_season=fuwu.resample('Q', on='日期').agg({'销售额':'sum','利润':'sum'}).reset_index()\n",
    "fuwu_season.to_csv(\"result/服务季度.csv\",encoding='utf-8_sig',index=False)\n",
    "fuwu_Year=fuwu.resample('A', on='日期').agg({'销售额':'sum','利润':'sum'}).reset_index()\n",
    "fuwu_Year.to_csv(\"result/服务年度.csv\",encoding='utf-8_sig',index=False)"
   ],
   "metadata": {
    "collapsed": false,
    "pycharm": {
     "name": "#%%\n"
    }
   }
  },
  {
   "cell_type": "code",
   "execution_count": 24,
   "outputs": [],
   "source": [
    "country=data.groupby(\"国家\")\n",
    "country_season=country.resample('Q', on='日期').agg({'销售额':'sum','利润':'sum'}).reset_index()\n",
    "country_season.to_csv(\"result/国家季度.csv\",encoding='utf-8_sig',index=False)\n",
    "country_Year=country.resample('A', on='日期').agg({'销售额':'sum','利润':'sum'}).reset_index()\n",
    "country_Year.to_csv(\"result/国家年度.csv\",encoding='utf-8_sig',index=False)\n"
   ],
   "metadata": {
    "collapsed": false,
    "pycharm": {
     "name": "#%%\n"
    }
   }
  },
  {
   "cell_type": "code",
   "execution_count": 25,
   "outputs": [],
   "source": [
    "city=data.groupby(\"城市\")\n",
    "city_season=city.resample('Q', on='日期').agg({'销售额':'sum','利润':'sum'}).reset_index()\n",
    "city_season.to_csv(\"result/城市季度.csv\",encoding='utf-8_sig',index=False)\n",
    "city_Year=city.resample('A', on='日期').agg({'销售额':'sum','利润':'sum'}).reset_index()\n",
    "city_Year.to_csv(\"result/城市年度.csv\",encoding='utf-8_sig',index=False)"
   ],
   "metadata": {
    "collapsed": false,
    "pycharm": {
     "name": "#%%\n"
    }
   }
  }
 ],
 "metadata": {
  "kernelspec": {
   "display_name": "Python 3",
   "language": "python",
   "name": "python3"
  },
  "language_info": {
   "codemirror_mode": {
    "name": "ipython",
    "version": 2
   },
   "file_extension": ".py",
   "mimetype": "text/x-python",
   "name": "python",
   "nbconvert_exporter": "python",
   "pygments_lexer": "ipython2",
   "version": "2.7.6"
  }
 },
 "nbformat": 4,
 "nbformat_minor": 0
}
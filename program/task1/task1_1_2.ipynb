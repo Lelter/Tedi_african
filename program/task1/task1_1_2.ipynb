{
 "cells": [
  {
   "cell_type": "code",
   "execution_count": 2,
   "metadata": {
    "collapsed": true
   },
   "outputs": [
    {
     "data": {
      "text/plain": "             日期                           国家             城市       地区  \\\n0    2017-01-01                Cote d'Ivoire        Abidjan  Western   \n1    2017-01-01                   Madagascar   Antananarivo  Eastern   \n2    2017-01-01                       Rwanda         Kigali  Eastern   \n3    2017-01-01                     Zimbabwe         Harare  Eastern   \n4    2017-01-02                     Ethiopia    Addis Ababa  Eastern   \n...         ...                          ...            ...      ...   \n1051 2020-12-20                     Zimbabwe         Harare  Eastern   \n1052 2020-12-21                       Malawi       Blantyre  Eastern   \n1053 2020-12-22                      Liberia       Monrovia  Western   \n1054 2020-12-28                        Kenya        Nairobi  Eastern   \n1055 2020-12-28  United Republic of Tanzania  Dar es Salaam  Eastern   \n\n             服务分类     销售额     利润  \n0      Commercial  656.96   6.57  \n1          Public  875.94 -70.08  \n2          Public  258.35  18.08  \n3     Residential  875.62 -35.02  \n4     Residential  509.93  10.20  \n...           ...     ...    ...  \n1051  Residential  394.28 -23.66  \n1052  Residential  333.07 -16.65  \n1053  Residential  133.26  -8.00  \n1054       Public  737.57  36.88  \n1055  Residential  859.82 -60.19  \n\n[1056 rows x 7 columns]",
      "text/html": "<div>\n<style scoped>\n    .dataframe tbody tr th:only-of-type {\n        vertical-align: middle;\n    }\n\n    .dataframe tbody tr th {\n        vertical-align: top;\n    }\n\n    .dataframe thead th {\n        text-align: right;\n    }\n</style>\n<table border=\"1\" class=\"dataframe\">\n  <thead>\n    <tr style=\"text-align: right;\">\n      <th></th>\n      <th>日期</th>\n      <th>国家</th>\n      <th>城市</th>\n      <th>地区</th>\n      <th>服务分类</th>\n      <th>销售额</th>\n      <th>利润</th>\n    </tr>\n  </thead>\n  <tbody>\n    <tr>\n      <th>0</th>\n      <td>2017-01-01</td>\n      <td>Cote d'Ivoire</td>\n      <td>Abidjan</td>\n      <td>Western</td>\n      <td>Commercial</td>\n      <td>656.96</td>\n      <td>6.57</td>\n    </tr>\n    <tr>\n      <th>1</th>\n      <td>2017-01-01</td>\n      <td>Madagascar</td>\n      <td>Antananarivo</td>\n      <td>Eastern</td>\n      <td>Public</td>\n      <td>875.94</td>\n      <td>-70.08</td>\n    </tr>\n    <tr>\n      <th>2</th>\n      <td>2017-01-01</td>\n      <td>Rwanda</td>\n      <td>Kigali</td>\n      <td>Eastern</td>\n      <td>Public</td>\n      <td>258.35</td>\n      <td>18.08</td>\n    </tr>\n    <tr>\n      <th>3</th>\n      <td>2017-01-01</td>\n      <td>Zimbabwe</td>\n      <td>Harare</td>\n      <td>Eastern</td>\n      <td>Residential</td>\n      <td>875.62</td>\n      <td>-35.02</td>\n    </tr>\n    <tr>\n      <th>4</th>\n      <td>2017-01-02</td>\n      <td>Ethiopia</td>\n      <td>Addis Ababa</td>\n      <td>Eastern</td>\n      <td>Residential</td>\n      <td>509.93</td>\n      <td>10.20</td>\n    </tr>\n    <tr>\n      <th>...</th>\n      <td>...</td>\n      <td>...</td>\n      <td>...</td>\n      <td>...</td>\n      <td>...</td>\n      <td>...</td>\n      <td>...</td>\n    </tr>\n    <tr>\n      <th>1051</th>\n      <td>2020-12-20</td>\n      <td>Zimbabwe</td>\n      <td>Harare</td>\n      <td>Eastern</td>\n      <td>Residential</td>\n      <td>394.28</td>\n      <td>-23.66</td>\n    </tr>\n    <tr>\n      <th>1052</th>\n      <td>2020-12-21</td>\n      <td>Malawi</td>\n      <td>Blantyre</td>\n      <td>Eastern</td>\n      <td>Residential</td>\n      <td>333.07</td>\n      <td>-16.65</td>\n    </tr>\n    <tr>\n      <th>1053</th>\n      <td>2020-12-22</td>\n      <td>Liberia</td>\n      <td>Monrovia</td>\n      <td>Western</td>\n      <td>Residential</td>\n      <td>133.26</td>\n      <td>-8.00</td>\n    </tr>\n    <tr>\n      <th>1054</th>\n      <td>2020-12-28</td>\n      <td>Kenya</td>\n      <td>Nairobi</td>\n      <td>Eastern</td>\n      <td>Public</td>\n      <td>737.57</td>\n      <td>36.88</td>\n    </tr>\n    <tr>\n      <th>1055</th>\n      <td>2020-12-28</td>\n      <td>United Republic of Tanzania</td>\n      <td>Dar es Salaam</td>\n      <td>Eastern</td>\n      <td>Residential</td>\n      <td>859.82</td>\n      <td>-60.19</td>\n    </tr>\n  </tbody>\n</table>\n<p>1056 rows × 7 columns</p>\n</div>"
     },
     "execution_count": 2,
     "metadata": {},
     "output_type": "execute_result"
    }
   ],
   "source": [
    "import pandas as pd\n",
    "data=pd.read_excel(\"非洲通讯产品销售数据.xlsx\")\n",
    "data"
   ]
  },
  {
   "cell_type": "code",
   "source": [
    "country=data.groupby(\"国家\")\n",
    "country_Year=country.resample('A', on='日期').agg({'销售额':'sum','利润':'sum'}).reset_index()\n",
    "country_Year"
   ],
   "metadata": {
    "collapsed": false,
    "pycharm": {
     "name": "#%%\n"
    }
   },
   "execution_count": 4,
   "outputs": [
    {
     "data": {
      "text/plain": "           国家         日期      销售额      利润\n0     Algeria 2017-12-31  2867.75  -19.72\n1     Algeria 2018-12-31  2068.73   60.52\n2     Algeria 2019-12-31  1181.66   29.92\n3     Algeria 2020-12-31  2223.79  -50.26\n4      Angola 2017-12-31  1451.46  123.82\n..        ...        ...      ...     ...\n203    Zambia 2020-12-31  1623.80  -43.05\n204  Zimbabwe 2017-12-31  1950.22  -75.17\n205  Zimbabwe 2018-12-31  2714.19    6.21\n206  Zimbabwe 2019-12-31  2193.43  -18.61\n207  Zimbabwe 2020-12-31  1425.48  -14.67\n\n[208 rows x 4 columns]",
      "text/html": "<div>\n<style scoped>\n    .dataframe tbody tr th:only-of-type {\n        vertical-align: middle;\n    }\n\n    .dataframe tbody tr th {\n        vertical-align: top;\n    }\n\n    .dataframe thead th {\n        text-align: right;\n    }\n</style>\n<table border=\"1\" class=\"dataframe\">\n  <thead>\n    <tr style=\"text-align: right;\">\n      <th></th>\n      <th>国家</th>\n      <th>日期</th>\n      <th>销售额</th>\n      <th>利润</th>\n    </tr>\n  </thead>\n  <tbody>\n    <tr>\n      <th>0</th>\n      <td>Algeria</td>\n      <td>2017-12-31</td>\n      <td>2867.75</td>\n      <td>-19.72</td>\n    </tr>\n    <tr>\n      <th>1</th>\n      <td>Algeria</td>\n      <td>2018-12-31</td>\n      <td>2068.73</td>\n      <td>60.52</td>\n    </tr>\n    <tr>\n      <th>2</th>\n      <td>Algeria</td>\n      <td>2019-12-31</td>\n      <td>1181.66</td>\n      <td>29.92</td>\n    </tr>\n    <tr>\n      <th>3</th>\n      <td>Algeria</td>\n      <td>2020-12-31</td>\n      <td>2223.79</td>\n      <td>-50.26</td>\n    </tr>\n    <tr>\n      <th>4</th>\n      <td>Angola</td>\n      <td>2017-12-31</td>\n      <td>1451.46</td>\n      <td>123.82</td>\n    </tr>\n    <tr>\n      <th>...</th>\n      <td>...</td>\n      <td>...</td>\n      <td>...</td>\n      <td>...</td>\n    </tr>\n    <tr>\n      <th>203</th>\n      <td>Zambia</td>\n      <td>2020-12-31</td>\n      <td>1623.80</td>\n      <td>-43.05</td>\n    </tr>\n    <tr>\n      <th>204</th>\n      <td>Zimbabwe</td>\n      <td>2017-12-31</td>\n      <td>1950.22</td>\n      <td>-75.17</td>\n    </tr>\n    <tr>\n      <th>205</th>\n      <td>Zimbabwe</td>\n      <td>2018-12-31</td>\n      <td>2714.19</td>\n      <td>6.21</td>\n    </tr>\n    <tr>\n      <th>206</th>\n      <td>Zimbabwe</td>\n      <td>2019-12-31</td>\n      <td>2193.43</td>\n      <td>-18.61</td>\n    </tr>\n    <tr>\n      <th>207</th>\n      <td>Zimbabwe</td>\n      <td>2020-12-31</td>\n      <td>1425.48</td>\n      <td>-14.67</td>\n    </tr>\n  </tbody>\n</table>\n<p>208 rows × 4 columns</p>\n</div>"
     },
     "execution_count": 4,
     "metadata": {},
     "output_type": "execute_result"
    }
   ]
  },
  {
   "cell_type": "code",
   "execution_count": null,
   "outputs": [],
   "source": [
    "for i in country_Year.iterrows:\n",
    "    print(i)\n",
    "# country_season['年度销售额增长率'] = country_season['销售额']/(country_season['销售额']-country_season['销售额'].diff())-1\n",
    "\n"
   ],
   "metadata": {
    "collapsed": false,
    "pycharm": {
     "name": "#%%\n"
    }
   }
  }
 ],
 "metadata": {
  "kernelspec": {
   "display_name": "Python 3",
   "language": "python",
   "name": "python3"
  },
  "language_info": {
   "codemirror_mode": {
    "name": "ipython",
    "version": 2
   },
   "file_extension": ".py",
   "mimetype": "text/x-python",
   "name": "python",
   "nbconvert_exporter": "python",
   "pygments_lexer": "ipython2",
   "version": "2.7.6"
  }
 },
 "nbformat": 4,
 "nbformat_minor": 0
}